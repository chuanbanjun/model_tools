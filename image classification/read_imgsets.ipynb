{
 "cells": [
  {
   "cell_type": "code",
   "execution_count": 1,
   "metadata": {},
   "outputs": [],
   "source": [
    "def eachFile(filepath):                 #将目录内的文件名放入列表中\n",
    "    pathDir =  os.listdir(filepath)\n",
    "    out = []\n",
    "    for allDir in pathDir:\n",
    "        child = allDir.decode('gbk')    # .decode('gbk')是解决中文显示乱码问题\n",
    "        out.append(child)\n",
    "    return out"
   ]
  },
  {
   "cell_type": "markdown",
   "metadata": {},
   "source": [
    "由若干文件夹组成，每个文件夹的名字是该类别的名字，每个文件夹中包含若干图像，这种数据集需要自己划分训练集和测试集"
   ]
  },
  {
   "cell_type": "code",
   "execution_count": 2,
   "metadata": {},
   "outputs": [
    {
     "ename": "SyntaxError",
     "evalue": "Missing parentheses in call to 'print'. Did you mean print(pic_dir_data+pic_dir)? (<ipython-input-2-36fb07208766>, line 14)",
     "output_type": "error",
     "traceback": [
      "\u001b[1;36m  File \u001b[1;32m\"<ipython-input-2-36fb07208766>\"\u001b[1;36m, line \u001b[1;32m14\u001b[0m\n\u001b[1;33m    print pic_dir_data+pic_dir\u001b[0m\n\u001b[1;37m                     ^\u001b[0m\n\u001b[1;31mSyntaxError\u001b[0m\u001b[1;31m:\u001b[0m Missing parentheses in call to 'print'. Did you mean print(pic_dir_data+pic_dir)?\n"
     ]
    }
   ],
   "source": [
    "def get_data1(data_name,train_percentage=0.7,resize=True,data_format=None):   #从文件夹中获取图像数据\n",
    "    file_name = os.path.join(pic_dir_out,data_name+str(Width)+\"X\"+str(Height)+\".pkl\")   \n",
    "    if os.path.exists(file_name):           #判断之前是否有存到文件中\n",
    "        (X_train, y_train), (X_test, y_test) = cPickle.load(open(file_name,\"rb\"))\n",
    "        return (X_train, y_train), (X_test, y_test)  \n",
    "    data_format = conv_utils.normalize_data_format(data_format)\n",
    "    pic_dir_set = eachFile(pic_dir_data)  \n",
    "    X_train = []\n",
    "    y_train = []\n",
    "    X_test = []\n",
    "    y_test = []\n",
    "    label = 0\n",
    "    for pic_dir in pic_dir_set:\n",
    "        print pic_dir_data+pic_dir\n",
    "        if not os.path.isdir(os.path.join(pic_dir_data,pic_dir)):\n",
    "            continue    \n",
    "        pic_set = eachFile(os.path.join(pic_dir_data,pic_dir))\n",
    "        pic_index = 0\n",
    "        train_count = int(len(pic_set)*train_percentage)\n",
    "        for pic_name in pic_set:\n",
    "            if not os.path.isfile(os.path.join(pic_dir_data,pic_dir,pic_name)):\n",
    "                continue\n",
    "            img = cv2.imread(os.path.join(pic_dir_data,pic_dir,pic_name))\n",
    "            if img is None:\n",
    "                continue\n",
    "            img = cv2.cvtColor(img,cv2.COLOR_BGR2GRAY) \n",
    "            if (resize):\n",
    "                img = cv2.resize(img,(Width,Height))\n",
    "            if (data_format == 'channels_last'):\n",
    "                img = img.reshape(-1,Width,Height,1)\n",
    "            elif (data_format == 'channels_first'):\n",
    "                img = img.reshape(-1,1,Width,Height)\n",
    "            if (pic_index < train_count):\n",
    "                X_train.append(img)\n",
    "                y_train.append(label)          \n",
    "            else:\n",
    "                X_test.append(img)\n",
    "                y_test.append(label)\n",
    "            pic_index += 1\n",
    "        if len(pic_set) <> 0:        \n",
    "            label += 1\n",
    "    X_train = np.concatenate(X_train,axis=0)        \n",
    "    X_test = np.concatenate(X_test,axis=0)    \n",
    "    y_train = np.array(y_train)\n",
    "    y_test = np.array(y_test)\n",
    "    cPickle.dump([(X_train, y_train), (X_test, y_test)],open(file_name,\"wb\")) \n",
    "    return (X_train, y_train), (X_test, y_test)   "
   ]
  },
  {
   "cell_type": "markdown",
   "metadata": {},
   "source": [
    "由train文件夹和test文件夹组成，每个文件夹中有一些文件夹，其名字是类别的名字，其中有很多的图像，这种则固定了训练集和测试集"
   ]
  },
  {
   "cell_type": "code",
   "execution_count": null,
   "metadata": {},
   "outputs": [],
   "source": [
    "def get_data2(data_name,resize=True,data_format=None):   #当数据被分为train和test两个部分时使用\n",
    "    file_name = os.path.join(pic_dir_out,data_name+str(Width)+\"X\"+str(Height)+\".pkl\")   \n",
    "    if os.path.exists(file_name):           #判断之前是否有存到文件中\n",
    "        (X_train, y_train), (X_test, y_test) = cPickle.load(open(file_name,\"rb\"))\n",
    "        return (X_train, y_train), (X_test, y_test)   \n",
    "    data_format = conv_utils.normalize_data_format(data_format)\n",
    "    all_dir_set = eachFile(pic_dir_data)\n",
    "    X_train = []\n",
    "    y_train = []\n",
    "    X_test = []\n",
    "    y_test = []\n",
    " \n",
    "    for all_dir in all_dir_set:\n",
    "        if not os.path.isdir(os.path.join(pic_dir_data,all_dir)):\n",
    "            continue\n",
    "        label = 0\n",
    "        pic_dir_set = eachFile(os.path.join(pic_dir_data,all_dir))\n",
    "        for pic_dir in pic_dir_set:\n",
    "            print pic_dir_data+pic_dir\n",
    "            if not os.path.isdir(os.path.join(pic_dir_data,all_dir,pic_dir)):\n",
    "                continue    \n",
    "            pic_set = eachFile(os.path.join(pic_dir_data,all_dir,pic_dir))\n",
    "            for pic_name in pic_set:\n",
    "                if not os.path.isfile(os.path.join(pic_dir_data,all_dir,pic_dir,pic_name)):\n",
    "                    continue\n",
    "                img = cv2.imread(os.path.join(pic_dir_data,all_dir,pic_dir,pic_name))\n",
    "                if img is None:\n",
    "                    continue\n",
    "                img = cv2.cvtColor(img,cv2.COLOR_BGR2GRAY) \n",
    "                if resize:\n",
    "                    img = cv2.resize(img,(Width,Height))\n",
    "                if (data_format == 'channels_last'):\n",
    "                    img = img.reshape(-1,Width,Height,1)\n",
    "                elif (data_format == 'channels_first'):\n",
    "                    img = img.reshape(-1,1,Width,Height)\n",
    "                if ('train' in all_dir):\n",
    "                    X_train.append(img)\n",
    "                    y_train.append(label)          \n",
    "                elif ('test' in all_dir):\n",
    "                    X_test.append(img)\n",
    "                    y_test.append(label)\n",
    "            if len(pic_set) <> 0:        \n",
    "                label += 1\n",
    "    X_train = np.concatenate(X_train,axis=0)        \n",
    "    X_test = np.concatenate(X_test,axis=0)    \n",
    "    y_train = np.array(y_train)\n",
    "    y_test = np.array(y_test)\n",
    "    cPickle.dump([(X_train, y_train), (X_test, y_test)],open(file_name,\"wb\")) \n",
    "    return (X_train, y_train), (X_test, y_test)   "
   ]
  },
  {
   "cell_type": "markdown",
   "metadata": {},
   "source": [
    "训练集和测试集在同一文件夹下，以文件名开头区分类别"
   ]
  },
  {
   "cell_type": "code",
   "execution_count": null,
   "metadata": {},
   "outputs": [],
   "source": [
    "def load_Img(imgDir,imgFoldName):\n",
    "    \n",
    "    imgs = os.listdir(imgDir+imgFoldName)\n",
    "    imgNum = len(imgs)\n",
    "    data = np.empty((imgNum,1,12,12),dtype=\"float32\")\n",
    "    label = np.empty((imgNum,),dtype=\"uint8\")\n",
    "    for i in range (imgNum):\n",
    "        img = Image.open(imgDir+imgFoldName+\"/\"+imgs[i])\n",
    "        arr = np.asarray(img,dtype=\"float32\")\n",
    "        data[i,:,:,:] = arr\n",
    "        label[i] = int(imgs[i].split('.')[0])\n",
    "    return data,label"
   ]
  },
  {
   "cell_type": "markdown",
   "metadata": {},
   "source": [
    "区分不同类别并移至各自类别的文件夹"
   ]
  },
  {
   "cell_type": "code",
   "execution_count": null,
   "metadata": {},
   "outputs": [],
   "source": [
    "import os\n",
    "import shutil\n",
    "\n",
    "TRAIN_DIR=''\n",
    "cat_target_file=''\n",
    "dog_target_file=''\n",
    "\n",
    " \n",
    "\n",
    "train_dogs_name=[i for i in os.listdir(TRAIN_DIR)if 'dog' in i]\n",
    "train_cats_name=[i for i in os.listdir(TRAIN_DIR)if 'dog' in i]\n",
    "for i in train_dogs_name:\n",
    "    src=TRAIN_DIR+i\n",
    "    dst=dog_target_file+i\n",
    "    shutil.copyfile(src,dst)\n",
    "for i in train_cats_name:\n",
    "    src=TRAIN_DIR+i\n",
    "    dst=cat_target_file+i\n",
    "    shutil.copyfile(src,dst)"
   ]
  }
 ],
 "metadata": {
  "kernelspec": {
   "display_name": "Python 3",
   "language": "python",
   "name": "python3"
  },
  "language_info": {
   "codemirror_mode": {
    "name": "ipython",
    "version": 3
   },
   "file_extension": ".py",
   "mimetype": "text/x-python",
   "name": "python",
   "nbconvert_exporter": "python",
   "pygments_lexer": "ipython3",
   "version": "3.6.6"
  }
 },
 "nbformat": 4,
 "nbformat_minor": 2
}
